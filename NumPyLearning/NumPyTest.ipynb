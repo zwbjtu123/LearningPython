{
 "nbformat": 4,
 "nbformat_minor": 2,
 "metadata": {
  "language_info": {
   "name": "python",
   "codemirror_mode": {
    "name": "ipython",
    "version": 3
   },
   "version": "3.7.3"
  },
  "orig_nbformat": 2,
  "file_extension": ".py",
  "mimetype": "text/x-python",
  "name": "python",
  "npconvert_exporter": "python",
  "pygments_lexer": "ipython3",
  "version": 3
 },
 "cells": [
  {
   "cell_type": "markdown",
   "execution_count": null,
   "metadata": {},
   "outputs": [],
   "source": [
    "### NumPy的多维数组\n"
   ]
  },
  {
   "cell_type": "code",
   "execution_count": 8,
   "metadata": {},
   "outputs": [
    {
     "name": "stdout",
     "output_type": "stream",
     "text": "[[1 2]\n [3 4]]\n(2, 2)\nint32\n[[ 4  2]\n [ 3 10]]\n[[ 3  0]\n [ 0 24]]\nA*D\n[[10 40]\n [30 80]]\n"
    }
   ],
   "source": [
    "import numpy as np\n",
    "A = np.array([[1, 2], [3, 4]])\n",
    "print(A)\n",
    "print(A.shape)\n",
    "print(A.dtype) \n",
    "B = np.array([[3, 0], [0, 6]])\n",
    "C = A + B\n",
    "print(C)\n",
    "print(A*B)\n",
    "\n",
    "D = np.array([[10, 20]])\n",
    "print(\"A\" + \"*\" + \"D\")\n",
    "print(A*D)"
   ]
  },
  {
   "cell_type": "markdown",
   "execution_count": null,
   "metadata": {},
   "outputs": [],
   "source": [
    "#### NumPy数组元素访问\n"
   ]
  },
  {
   "cell_type": "code",
   "execution_count": 12,
   "metadata": {},
   "outputs": [
    {
     "name": "stdout",
     "output_type": "stream",
     "text": "[[52 55]\n [14 19]\n [ 0  4]]\n[52 55]\n55\n[52 55]\n[14 19]\n[0 4]\n[52 55 14 19  0  4]\n[52 14  0]\n[ True  True False  True False False]\n[52 55 19]\n"
    }
   ],
   "source": [
    "X = np.array([[52, 55], [14, 19], [0, 4]])\n",
    "print(X)\n",
    "print(X[0])\n",
    "print(X[0][1])\n",
    "\n",
    "for row in X:\n",
    "    print(row)\n",
    "\n",
    "X = X.flatten()\n",
    "print(X)\n",
    "\n",
    "print(X[np.array([0, 2, 4])])\n",
    "\n",
    "print(X > 15)\n",
    "print(X[X > 15])\n"
   ]
  },
  {
   "cell_type": "code",
   "execution_count": null,
   "metadata": {},
   "outputs": [],
   "source": []
  }
 ]
}